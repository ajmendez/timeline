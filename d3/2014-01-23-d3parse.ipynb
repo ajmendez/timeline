{
 "metadata": {
  "name": ""
 },
 "nbformat": 3,
 "nbformat_minor": 0,
 "worksheets": [
  {
   "cells": [
    {
     "cell_type": "code",
     "collapsed": false,
     "input": [
      "import json\n",
      "alex = json.load(open(\"../data/version1.json\"))"
     ],
     "language": "python",
     "metadata": {},
     "outputs": [],
     "prompt_number": 1
    },
    {
     "cell_type": "code",
     "collapsed": false,
     "input": [
      "items = [{\"lane\": 0, \"id\": \"Qin\", \"start\": 5, \"end\": 205},\n",
      "\t\t\t\t\t{\"lane\": 0, \"id\": \"Jin\", \"start\": 265, \"end\": 420},\n",
      "\t\t\t\t\t{\"lane\": 0, \"id\": \"Sui\", \"start\": 580, \"end\": 615},\n",
      "\t\t\t\t\t{\"lane\": 0, \"id\": \"Tang\", \"start\": 620, \"end\": 900},\n",
      "\t\t\t\t\t{\"lane\": 0, \"id\": \"Song\", \"start\": 960, \"end\": 1265},\n",
      "\t\t\t\t\t{\"lane\": 0, \"id\": \"Yuan\", \"start\": 1270, \"end\": 1365},\n",
      "\t\t\t\t\t{\"lane\": 0, \"id\": \"Ming\", \"start\": 1370, \"end\": 1640},\n",
      "\t\t\t\t\t{\"lane\": 0, \"id\": \"Qing\", \"start\": 1645, \"end\": 1910},\n",
      "\t\t\t\t\t{\"lane\": 1, \"id\": \"Yamato\", \"start\": 300, \"end\": 530},\n",
      "\t\t\t\t\t{\"lane\": 1, \"id\": \"Asuka\", \"start\": 550, \"end\": 700},"
     ],
     "language": "python",
     "metadata": {},
     "outputs": []
    },
    {
     "cell_type": "code",
     "collapsed": false,
     "input": [
      "items = []\n",
      "for index, row in enumerate(alex):\n",
      "    new = {}\n",
      "    new[\"lane\"] = index\n",
      "    new[\"id\"] = row[\"name\"]\n",
      "    new[\"start\"] = row[\"birth_date\"]\n",
      "    new[\"end\"] = row[\"death_date\"]\n",
      "    items.append(new)"
     ],
     "language": "python",
     "metadata": {},
     "outputs": [],
     "prompt_number": 9
    },
    {
     "cell_type": "code",
     "collapsed": false,
     "input": [
      "items"
     ],
     "language": "python",
     "metadata": {},
     "outputs": [
      {
       "metadata": {},
       "output_type": "pyout",
       "prompt_number": 10,
       "text": [
        "[{'end': u'1955-4-18',\n",
        "  'id': u'Albert Einstein',\n",
        "  'lane': 0,\n",
        "  'start': u'1879-3-14'},\n",
        " {'end': u'1983-07-12',\n",
        "  'id': u'Ernst G. Straus',\n",
        "  'lane': 1,\n",
        "  'start': u'1922-02-25'}]"
       ]
      }
     ],
     "prompt_number": 10
    },
    {
     "cell_type": "code",
     "collapsed": false,
     "input": [
      "alex"
     ],
     "language": "python",
     "metadata": {},
     "outputs": [
      {
       "metadata": {},
       "output_type": "pyout",
       "prompt_number": 6,
       "text": [
        "[{u'birth_date': u'1879-3-14',\n",
        "  u'death_date': u'1955-4-18',\n",
        "  u'group': None,\n",
        "  u'name': u'Albert Einstein'},\n",
        " {u'birth_date': u'1922-02-25',\n",
        "  u'death_date': u'1983-07-12',\n",
        "  u'group': None,\n",
        "  u'name': u'Ernst G. Straus'}]"
       ]
      }
     ],
     "prompt_number": 6
    },
    {
     "cell_type": "code",
     "collapsed": false,
     "input": [],
     "language": "python",
     "metadata": {},
     "outputs": []
    }
   ],
   "metadata": {}
  }
 ]
}