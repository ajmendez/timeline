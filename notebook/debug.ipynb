{
 "metadata": {
  "name": ""
 },
 "nbformat": 3,
 "nbformat_minor": 0,
 "worksheets": [
  {
   "cells": [
    {
     "cell_type": "code",
     "collapsed": false,
     "input": [
      "import os\n",
      "import json\n",
      "import urllib\n",
      "import codecs\n",
      "import requests\n",
      "\n",
      "import mwparserfromhell"
     ],
     "language": "python",
     "metadata": {},
     "outputs": [],
     "prompt_number": 48
    },
    {
     "cell_type": "code",
     "collapsed": false,
     "input": [
      "title2 = u'Wilhelm R\u00f6ntgen'\n",
      "people = [x.strip() for x in codecs.open('../data/people.txt','r','utf-8').readlines()]\n",
      "title = people[0]\n",
      "print repr(title), repr(title2)\n",
      "print title == title2\n",
      "\n",
      "title = u'Maria Sk\\u0142odowska-Curie'"
     ],
     "language": "python",
     "metadata": {},
     "outputs": [
      {
       "output_type": "stream",
       "stream": "stdout",
       "text": [
        "u'Wilhelm R\\xf6ntgen' u'Wilhelm R\\xf6ntgen'\n",
        "True\n"
       ]
      }
     ],
     "prompt_number": 40
    },
    {
     "cell_type": "code",
     "collapsed": false,
     "input": [
      "s = requests.session()\n",
      "URL = u'http://en.wikipedia.org/w/api.php'\n",
      "params = dict(action='parse',\n",
      "              prop='wikitext',\n",
      "              page=title,\n",
      "              format='json')\n",
      "\n",
      "page = s.get(URL, params=params).content\n",
      "print page\n",
      "\n",
      "tmp2 = json.loads(page)['parse']['wikitext']['*']\n",
      "title2 = mwparserfromhell.parse(tmp2).filter_wikilinks()[0].title\n",
      "params['page'] = title2\n",
      "page2 = s.get(URL, params=params).content\n",
      "print page2"
     ],
     "language": "python",
     "metadata": {},
     "outputs": [
      {
       "output_type": "stream",
       "stream": "stdout",
       "text": [
        "{\"parse\":{\"title\":\"Maria Sk\\u0142odowska-Curie\",\"wikitext\":{\"*\":\"#REDIRECT [[Marie Curie]]\"}}}\n",
        "{\"parse\":{\"title\":\"E\",\"wikitext\":{\"*\":\"{{about||the mathematical constant|\\u212f|other uses}}\\n{{Technical reasons|E#|E sharp|E\\u266f}}\\n{{pp-move-indef|small=yes}}\\n{{Latin letter info|e}}\\n\\n'''E''' ([[English alphabet#Letter names|named]] ''e'' {{IPAc-en|'|i\\u02d0}}, plural ''ees'')<ref>\\\"E\\\" a letter ''Merriam-Webster's Third New International Dictionary of the English Language Unabridged'' (1993). ''Ees'' is the plural of the name of the letter; the plural of the letter itself is rendered E's, ''E''s, e's, or ''e''s.</ref> is the fifth [[Letter (alphabet)|letter]] and a [[vowel#Written vowels|vowel]] in the [[ISO basic Latin alphabet]]. It is the most commonly used letter in many languages, including: [[Czech language|Czech]],<ref name=\\\"Brian Keck UKFSN\\\">{{cite web|url=http://www.bckelk.ukfsn.org/words/etaoin.html|title=Letter frequencies|last=Kelk|first=Brian|publisher=UK Free Software Network|accessdate=2008-06-25}}</ref> [[Danish language|Danish]],<ref name=\\\"Brian Keck UKFSN\\\" /> [[Dutch language|Dutch]],<ref name=\\\"Brian Keck UKFSN\\\" /> [[English language|English]],<ref>{{cite web|url=http://pages.central.edu/emp/LintonT/classes/spring01/cryptography/letterfreq.html|title=Relative Frequencies of Letters in General English Plain text|last=Lewand|first=Robert|work=Cryptographical Mathematics|publisher=[[Central College]]|accessdate=2008-06-25}}</ref> [[French language|French]],<ref>{{cite web|url=http://www.santacruzpl.org/readyref/files/g-l/ltfrqfr.shtml|title=Frequency of Occurrence of Letters in French|publisher=Santa Cruz Public Libraries|accessdate=2008-06-25}}</ref> [[German language|German]],<ref>{{cite web|url=http://scplweb.santacruzpl.org/readyref/files/g-l/ltfrqger.shtml|title=Frequency of Occurrence of Letters in German|publisher=Santa Cruz Public Libraries|accessdate=2008-06-25}}</ref> [[Hungarian language|Hungarian]],<ref name=\\\"Brian Keck UKFSN\\\" /> [[Latin language|Latin]],<ref name=\\\"Brian Keck UKFSN\\\" /> [[Norwegian language|Norwegian]],<ref name=\\\"Brian Keck UKFSN\\\" /> [[Spanish language|Spanish]],<ref>{{cite web|url=http://www.santacruzpl.org/readyref/files/g-l/ltfrqsp.shtml|title=Frequency of Occurrence of Letters in Spanish|publisher=Santa Cruz Public Libraries|accessdate=2008-06-25}}</ref> and [[Swedish language|Swedish]].<ref name=\\\"Brian Keck UKFSN\\\" />\\n\\n==History==\\n{| class=\\\"wikitable\\\" cellpadding=4\\n|-  bgcolor=\\\"#EEEEEE\\\"\\n! Egyptian hieroglyph<br>''q\\u2019''\\n! Phoenician <br/> ''[[he (letter)|He]]''\\n! Etruscan<br/>E\\n! Greek<br/>''[[Epsilon]]''\\n! Roman/<br>Cyrillic<br/>E\\n|--- align=center\\n| <hiero>A28</hiero>\\n|[[File:PhoenicianE-01.svg|40x40px]]\\n|[[File:Alfabeto camuno-e.svg|40px]]\\n|[[File:Epsilon uc lc.svg|55px]]\\n|[[File:RomanE-01.png|30px|Roman E]]\\n|}\\n\\nThe Latin letter 'E' differs little from its derivational source, the [[Greek alphabet|Greek]] letter [[epsilon]], '\\u0395'. In [[etymology]], the [[Semitic]] ''[[He (letter)|h\\u00ea]]''&#160; has been suggested to have started as a praying or calling human figure (''[[hillul]]'' 'jubilation'), and was probably based on a similar [[Egyptian hieroglyph]] that indicated a different pronunciation. In Semitic, the letter represented {{IPA|/h/}} (and {{IPA|/e/}} in foreign words), in Greek ''h\\u00ea'' became  epsilon with the value {{IPA|/e/}}.  [[Etruria|Etruscan]]s and [[Ancient Rome|Romans]] followed this usage. Although [[Middle English]] spelling used 'e' to represent long and short {{IPA|/e/}}, the [[Great Vowel Shift]] changed long {{IPA|/e\\u02d0/}} (as in 'me' or 'bee') to {{IPA|/i\\u02d0/}} while short {{IPA|/e/}} (as in 'met' or 'bed') remained a mid vowel.\\n\\n==Use in English==\\nIn [[English orthography]], e can represent the \\\"short e\\\" sound {{IPAc-en|\\u025b}}, the \\\"long e\\\" sound {{IPAc-en|i\\u02d0}} or be silent when word-final, with a \\\"lengthening\\\" effect on previous vowels (for example ''rat'' has a short vowel and ''rate'' has a long one). Some of the [[digraph]]s it occurs in are ee, ea, eu/ew, ei/ey, i.e., ui. In loanwords, 'e' or '\\u00e9' can represent the sound {{IPAc-en|e\\u026a}} as in 'caf\\u00e9'.\\n\\n==Use in other languages==\\nIn the [[International Phonetic Alphabet]], /e/ represents the [[close-mid front unrounded vowel]]. In the orthography of many languages it represents either this or /{{IPAlink|\\u025b}}/, or some variation (such as a [[Nasal vowel|nasalized]] version) of these sounds, often with diacritics (as: {{angle bracket|e [[\\u00ea]] [[\\u00e9]] [[\\u00e8]] [[\\u00eb]] [[\\u0113]] [[\\u0115]] [[\\u011b]] [[\\u1ebd]] [[\\u0117]] [[\\u1eb9]] [[\\u0119]] [[\\u1ebb]]}}) to indicate contrasts.  Less commonly, as in Saanich, E represents a [[mid-central vowel]] /\\u0259/. [[Digraph (orthography)|Digraphs]] with 'e' are common to indicate [[diphthong]]s and [[monophthong]]s, such as 'ea' or 'ee' for {{IPA|/i\\u02d0/}} or {{IPA|/e\\u026a/}} in English, 'ei' for {{IPA|/a\\u026a/}} in [[German language|German]], and 'eu' for {{IPA|/\\u00f8/}} in [[French language|French]] or {{IPA|/\\u0254\\u026a/}} in German.\\n\\n==Most common letter==\\n'E' is the most common (or highest-[[Frequency (statistics)|frequency]]) letter in the English alphabet (starting off the typographer's phrase [[ETAOIN SHRDLU]]) and several other European [[languages]], which has implications in both [[cryptography]] and [[data compression]]. This makes it a hard and popular letter to use when writing [[lipogram]]s. [[Ernest Vincent Wright]]'s ''[[Gadsby (novel)|Gadsby]]'' (1939) is considered a \\\"dreadful\\\" novel, and that \\\"at least part of Wright's narrative issues were caused by language limitations imposed by the lack of ''E''.\\\"<ref>Ross Eckler, ''Making the Alphabet Dance: Recreational Word Play''. New York: St. Martin's Press (1996): 3</ref> Both [[Georges Perec]]'s novel ''[[A Void (novel)|A Void]]'' (''La Disparition'') (1969) and its English translation by Gilbert Adair omit 'e' and are considered better works.<ref>Eckler (1996): 3. Perec's novel \\\"was so well written that at least some reviewers never realized the existence of a letter constraint.\\\"</ref>\\n\\n==Related letters and other similar characters==\\n*\\u0395 \\u03b5 : [[Epsilon (letter)|Greek letter Epsilon]]\\n*{{unicode|\\u0190 \\u025b}} : [[\\u0190|Latin letter Epsilon]]\\n*\\u0415 \\u0435 : [[Ye (Cyrillic)|Cyrillic letter Ye]]\\n*\\u0404 \\u0454 : [[Ukrainian Ye|Cyrillic letter Ukrainian Ye]]\\n*\\u042d \\u044d : [[E (Cyrillic)|Cyrillic letter E]]\\n*{{unicode|\\u212e}} : [[Estimated sign]] (used on prepackaged goods for sale within the European Union).\\n*\\u20ac : [[Euro sign]].\\n*\\u212f : a [[\\u212f|mathematical constant]].\\n*\\u314c : a [[\\u314c|Hangul letter]]. \\n*\\u2208 : in set theory, the symbol for [[\\u2208|set membership]].\\n*\\u2107 : the [[\\u2107|Euler\\u2013Mascheroni constant]].\\n\\n==Computing codes==\\n{{charmap\\n| 0045 | 0065 | name1 = Latin Capital Letter E | name2 = &#160; Latin Small Letter E\\n| map1 = [[EBCDIC]] family | map1char1 = C5 | map1char2 = 85\\n| map2 = [[ASCII]] <sup>1<sup/> | map2char1 = 45 | map2char2 = 65\\n}}\\n: <sup>1</sup> {{midsize|Also for encodings based on ASCII, including the DOS, Windows, ISO-8859 and Macintosh families of encodings.}}\\n\\n==Other representations==\\n{{Letter other reps\\n|NATO=Echo\\n|Morse=\\u00b7\\n|Character=E5\\n|Braille=\\u2811\\n}}\\n\\nIn [[British Sign Language]] (BSL), the letter 'e' is signed by extending the index finger of the right hand touching the tip of index on the left hand, with all fingers of left hand open.\\n\\n==References==\\n{{reflist}}\\n\\n==External links==\\n*{{Commons-inline|E}}\\n*{{Wiktionary-inline|E}}\\n*{{Wiktionary-inline|e}}\\n\\n{{Latin alphabet|E|}}\\n\\n[[Category:ISO basic Latin letters]]\\n[[Category:Vowel letters]]\"}}}"
       ]
      },
      {
       "output_type": "stream",
       "stream": "stdout",
       "text": [
        "\n"
       ]
      }
     ],
     "prompt_number": 53
    },
    {
     "cell_type": "code",
     "collapsed": false,
     "input": [],
     "language": "python",
     "metadata": {},
     "outputs": []
    }
   ],
   "metadata": {}
  }
 ]
}