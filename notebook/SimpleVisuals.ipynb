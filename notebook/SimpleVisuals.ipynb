{
 "metadata": {
  "name": ""
 },
 "nbformat": 3,
 "nbformat_minor": 0,
 "worksheets": [
  {
   "cells": [
    {
     "cell_type": "code",
     "collapsed": false,
     "input": [
      "import os\n",
      "import sys\n",
      "import json\n",
      "from pprint import pprint\n",
      "\n",
      "tmp = os.path.expanduser('~/dev/timeline/')\n",
      "if tmp not in sys.path:\n",
      "    sys.path.append(tmp)\n",
      "from timeline import wiki\n",
      "\n",
      "from pysurvey import plot as p"
     ],
     "language": "python",
     "metadata": {},
     "outputs": [],
     "prompt_number": 26
    },
    {
     "cell_type": "code",
     "collapsed": false,
     "input": [
      "wars = json.load(open(wiki.WAR_FILE,'r'))"
     ],
     "language": "python",
     "metadata": {},
     "outputs": [],
     "prompt_number": 18
    },
    {
     "cell_type": "code",
     "collapsed": false,
     "input": [
      "# starts = [int(w['start']) for  w in wars]\n",
      "starts = []\n",
      "for w in wars:\n",
      "    try:\n",
      "        starts.append(int(w['start']))\n",
      "    except:\n",
      "        pass\n",
      "\n",
      "p.setup(figsize=(6.5,5.5), xlabel='year', ylabel='Number of wars')\n",
      "hist(starts)"
     ],
     "language": "python",
     "metadata": {},
     "outputs": [
      {
       "metadata": {},
       "output_type": "pyout",
       "prompt_number": 28,
       "text": [
        "(array([  15.,   16.,   16.,   24.,   41.,   75.,   90.,  148.,  285.,  327.]),\n",
        " array([ 1010. ,  1110.3,  1210.6,  1310.9,  1411.2,  1511.5,  1611.8,\n",
        "        1712.1,  1812.4,  1912.7,  2013. ]),\n",
        " <a list of 10 Patch objects>)"
       ]
      },
      {
       "metadata": {},
       "output_type": "display_data",
       "png": "[encoded data removed]",
       "text": [
        "<matplotlib.figure.Figure at 0x10907c890>"
       ]
      }
     ],
     "prompt_number": 28
    },
    {
     "cell_type": "code",
     "collapsed": false,
     "input": [],
     "language": "python",
     "metadata": {},
     "outputs": []
    }
   ],
   "metadata": {}
  }
 ]
}